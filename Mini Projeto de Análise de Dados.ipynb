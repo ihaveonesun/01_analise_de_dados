{
 "cells": [
  {
   "cell_type": "markdown",
   "id": "04629257",
   "metadata": {},
   "source": [
    "# Mini Projeto de Análise de Dados"
   ]
  },
  {
   "cell_type": "markdown",
   "id": "10b18afd",
   "metadata": {},
   "source": [
    "## Escopo.\n",
    "Dados de 2019 de uma empresa de prestação de serviços.\n",
    "Tendo as seguinte base de dados:\n",
    " * CadastroFuncionarios\n",
    " * CadastroClientes\n",
    " * BaseServiçosPrestados\n",
    " \n",
    "Objetivos:\n",
    " 1. Obter o Valor Total da Folha Salarial\n",
    " 2. Saber o faturamento da empresa\n",
    " 3. Qual a porcentagem de funcionários que já fechou algum contrato.\n",
    " 4. Total de contratos fechados por cada área da empresa\n",
    " 5. A quantidade de funcionários por área\n",
    " 6. Qual o ticket médio mensal dos contratos."
   ]
  },
  {
   "cell_type": "code",
   "execution_count": 1,
   "id": "9f29d32a",
   "metadata": {},
   "outputs": [],
   "source": [
    "# importação de bibliotecas a serem utilizadas\n",
    "import pandas as pd\n",
    "import matplotlib.pyplot as plt   # optei usar essa biblioteca para o gráfico, apenas por praticar"
   ]
  },
  {
   "cell_type": "markdown",
   "id": "cf5f814e",
   "metadata": {},
   "source": [
    "#### 1. Obtendo o valor da Folha Salarial"
   ]
  },
  {
   "cell_type": "code",
   "execution_count": 2,
   "id": "bf106cc2",
   "metadata": {},
   "outputs": [
    {
     "name": "stdout",
     "output_type": "stream",
     "text": [
      "Folha Salarial no valor de R$ 2,717,493.22\n"
     ]
    }
   ],
   "source": [
    "# importação da base de dados. \n",
    "# Os parâmetros sep e decimal foram utilizados, para a correta formatação do dataframe.\n",
    "funcionarios_df = pd.read_csv('CadastroFuncionarios.csv', sep = ';', decimal = ',')\n",
    "\n",
    "# para calcular a folha salarial foi efetuada a soma do salário base, impostos, benefícios, VT e VR de todos os funcionários.\n",
    "folha_salarial = funcionarios_df['Salario Base'].sum() + funcionarios_df['Impostos'].sum() \\\n",
    "+ funcionarios_df['Beneficios'].sum() + funcionarios_df['VT'].sum() + funcionarios_df['VR'].sum()\n",
    "\n",
    "# como se trata de apenas exibir os valores, desnecessário uso posterior dos dados \n",
    "print('Folha Salarial no valor de R$ {:,.2f}'.format(folha_salarial))"
   ]
  },
  {
   "cell_type": "markdown",
   "id": "ec5a9bf6",
   "metadata": {},
   "source": [
    "#### 2. Chegando ao valor do Faturamento da Empresa"
   ]
  },
  {
   "cell_type": "code",
   "execution_count": 3,
   "id": "8a3ced60",
   "metadata": {},
   "outputs": [
    {
     "name": "stdout",
     "output_type": "stream",
     "text": [
      "Faturamento de R$5,519,160.00\n"
     ]
    }
   ],
   "source": [
    "# importação da base de dados\n",
    "servicos_df = pd.read_excel('BaseServiçosPrestados.xlsx')   # este arquivo em questão era formato .xlsx\n",
    "clientes_df = pd.read_csv('CadastroClientes.csv', sep = ';')\n",
    "\n",
    "# colocando a coluna ID cliente como índice, necessário para etapa seguinte\n",
    "servicos_df = servicos_df[['ID Cliente', 'ID Funcionário', 'Codigo do Servico', 'Tempo Total de Contrato (Meses)']] \n",
    "\n",
    "# efetuando o merge de ambos dos dataframes, criando um novo onde a coluna ID Cliente é a chave.\n",
    "servicos_clientes_df = servicos_df.merge(clientes_df, on = 'ID Cliente')\n",
    "\n",
    "# criação de listas com cada tempo de contrato e seu respectivo valor.\n",
    "contrato_tempo = list(servicos_clientes_df['Tempo Total de Contrato (Meses)'])\n",
    "contrato_valor = list(servicos_clientes_df['Valor Contrato Mensal'])\n",
    "\n",
    "# lista para armazenar o valor calculado\n",
    "valor_mensal = []\n",
    "\n",
    "# usando laço de repetição for (comentado):\n",
    "# for i, meses in enumerate(contrato_tempo):\n",
    "#     valor_mensal.append(meses * contrato_valor[i])\n",
    "\n",
    "# usando list comprehension\n",
    "valor_mensal = [meses * contrato_valor[i] for i, meses in enumerate(contrato_tempo)]\n",
    "\n",
    "# iniciando variável faturamento\n",
    "faturamento = 0\n",
    "\n",
    "# somando todos os valores adquiridos anteriormente e acrescentando ao faturamento\n",
    "for valor in valor_mensal:\n",
    "    faturamento += valor\n",
    "\n",
    "# exibindo a valor do faturamento\n",
    "print('Faturamento de R${:,.2f}'.format(faturamento))"
   ]
  },
  {
   "cell_type": "markdown",
   "id": "01b5f1bd",
   "metadata": {},
   "source": [
    "#### 3. Porcentagem de funcionários que fecharam contrato"
   ]
  },
  {
   "cell_type": "code",
   "execution_count": 4,
   "id": "2b0974cc",
   "metadata": {},
   "outputs": [
    {
     "name": "stdout",
     "output_type": "stream",
     "text": [
      "Cerca de 86.84% dos funcionários fecharam negócios.\n"
     ]
    }
   ],
   "source": [
    "# importação da base de dados\n",
    "funcionarios_df = pd.read_csv('CadastroFuncionarios.csv', sep = ';', decimal = ',')\n",
    "\n",
    "# mantendo somente as colunas de interesse\n",
    "funcionarios_df = funcionarios_df[['ID Funcionário', 'Nome Completo','Area']]\n",
    "\n",
    "# criando novo dataframe serviços\n",
    "servicos_df = servicos_df[['Codigo do Servico', 'ID Funcionário']]\n",
    "\n",
    "# mesclando o dataframe servicos com a de funcionários, tendo a coluna ID Funcionários como chave.\n",
    "servicos_df = servicos_df.merge(funcionarios_df, on = 'ID Funcionário')\n",
    "\n",
    "# variável com o total de funcionarios\n",
    "funcionarios_total = funcionarios_df['ID Funcionário']\n",
    "\n",
    "# criando novo dataframe com os IDs sem duplicatas a partir do dataframe de funcionarios_serv\n",
    "funcionarios_serv = servicos_df['ID Funcionário'].unique()\n",
    "\n",
    "# exibindo valor em porcentagem, entretanto, optei por efetuar o cálculo final dentro da formatação.\n",
    "print('Cerca de {:.2%} dos funcionários fecharam negócios.'.format(len(funcionarios_serv) / len(funcionarios_total)))"
   ]
  },
  {
   "cell_type": "markdown",
   "id": "f2441b96",
   "metadata": {},
   "source": [
    "#### 4. Contratos fechados por área da empresa"
   ]
  },
  {
   "cell_type": "code",
   "execution_count": 5,
   "id": "ce15fa29",
   "metadata": {},
   "outputs": [
    {
     "data": {
      "text/plain": [
       "'Total de contratos por setor:'"
      ]
     },
     "metadata": {},
     "output_type": "display_data"
    },
    {
     "data": {
      "text/plain": [
       "{'Administrativo': 63,\n",
       " 'Operações': 48,\n",
       " 'Comercial': 44,\n",
       " 'Financeiro': 42,\n",
       " 'Logística': 40}"
      ]
     },
     "metadata": {},
     "output_type": "display_data"
    }
   ],
   "source": [
    "# obtendo somente informações necessárias dos funcionarios e serviços\n",
    "funcionarios = funcionarios_df[['ID Funcionário', 'Area']]\n",
    "servicos = servicos_df[['ID Funcionário']]\n",
    "\n",
    "# mesclei servicos com funcionarios\n",
    "servicos = servicos.merge(funcionarios, on = 'ID Funcionário')\n",
    "\n",
    "# dicionário com a quantidade de contratos por área\n",
    "servicos_area = dict(servicos['Area'].value_counts())\n",
    "\n",
    "display(\"Total de contratos por setor:\", servicos_area)"
   ]
  },
  {
   "cell_type": "code",
   "execution_count": 6,
   "id": "ede13bdb",
   "metadata": {},
   "outputs": [
    {
     "data": {
      "image/png": "[encoded data removed]",
      "text/plain": [
       "<Figure size 576x288 with 1 Axes>"
      ]
     },
     "metadata": {
      "needs_background": "light"
     },
     "output_type": "display_data"
    }
   ],
   "source": [
    "# atribuindo cada valor do dicionário para variáveis a fim de simplificar a montagem do gráfico\n",
    "areas = servicos_area.keys()\n",
    "servicos = servicos_area.values()\n",
    "\n",
    "# exibição de gráfico simples para melhor panorama\n",
    "plt.figure(figsize = (8, 4))\n",
    "plt.bar(areas, servicos)\n",
    "plt.axis([-1, 5, 0, max(servicos) + 40])\n",
    "plt.ylabel('Contratos')\n",
    "plt.xlabel('Setores')\n",
    "\n",
    "plt.show()"
   ]
  },
  {
   "cell_type": "markdown",
   "id": "c2d20b2c",
   "metadata": {},
   "source": [
    "#### 5. Quantidade de funcionários por setor"
   ]
  },
  {
   "cell_type": "code",
   "execution_count": 7,
   "id": "3cfd8ce1",
   "metadata": {},
   "outputs": [
    {
     "data": {
      "text/plain": [
       "'Funcionários por setor:'"
      ]
     },
     "metadata": {},
     "output_type": "display_data"
    },
    {
     "data": {
      "text/plain": [
       "Comercial         26\n",
       "Administrativo    26\n",
       "Operações         23\n",
       "Logística         21\n",
       "Financeiro        18\n",
       "Name: Area, dtype: int64"
      ]
     },
     "metadata": {},
     "output_type": "display_data"
    }
   ],
   "source": [
    "display('Funcionários por setor:', funcionarios['Area'].value_counts())"
   ]
  },
  {
   "cell_type": "markdown",
   "id": "eb15a1ff",
   "metadata": {},
   "source": [
    "#### 6. Ticket médio mensal por contrato"
   ]
  },
  {
   "cell_type": "code",
   "execution_count": 8,
   "id": "b30d8175",
   "metadata": {},
   "outputs": [
    {
     "data": {
      "text/plain": [
       "'Média dos contratos: R$2502.56'"
      ]
     },
     "metadata": {},
     "output_type": "display_data"
    }
   ],
   "source": [
    "display('Média dos contratos: R${:.2f}'.format(clientes_df['Valor Contrato Mensal'].mean()))"
   ]
  }
 ],
 "metadata": {
  "kernelspec": {
   "display_name": "Python 3",
   "language": "python",
   "name": "python3"
  },
  "language_info": {
   "codemirror_mode": {
    "name": "ipython",
    "version": 3
   },
   "file_extension": ".py",
   "mimetype": "text/x-python",
   "name": "python",
   "nbconvert_exporter": "python",
   "pygments_lexer": "ipython3",
   "version": "3.8.8"
  }
 },
 "nbformat": 4,
 "nbformat_minor": 5
}
